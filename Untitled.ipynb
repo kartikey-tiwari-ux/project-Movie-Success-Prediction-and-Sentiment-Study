{
 "cells": [
  {
   "cell_type": "code",
   "execution_count": 3,
   "id": "f6bdf017-2cd0-4971-8531-3ee26614a146",
   "metadata": {},
   "outputs": [
    {
     "name": "stderr",
     "output_type": "stream",
     "text": [
      "[nltk_data] Downloading package vader_lexicon to C:\\Users\\Kartikey\n",
      "[nltk_data]     Tiwari\\AppData\\Roaming\\nltk_data...\n",
      "[nltk_data]   Package vader_lexicon is already up-to-date!\n"
     ]
    },
    {
     "name": "stdout",
     "output_type": "stream",
     "text": [
      "Saved IMDB_with_vader_scores.csv\n",
      "Saved vader_compound_hist.png\n"
     ]
    },
    {
     "ename": "ModuleNotFoundError",
     "evalue": "No module named 'sklearn'",
     "output_type": "error",
     "traceback": [
      "\u001b[31m---------------------------------------------------------------------------\u001b[39m",
      "\u001b[31mModuleNotFoundError\u001b[39m                       Traceback (most recent call last)",
      "\u001b[36mCell\u001b[39m\u001b[36m \u001b[39m\u001b[32mIn[3]\u001b[39m\u001b[32m, line 41\u001b[39m\n\u001b[32m     38\u001b[39m \u001b[38;5;28mprint\u001b[39m(\u001b[33m\"\u001b[39m\u001b[33mSaved vader_compound_hist.png\u001b[39m\u001b[33m\"\u001b[39m)\n\u001b[32m     40\u001b[39m \u001b[38;5;66;03m# === supervised TFIDF + Logistic (full dataset or sample) ===\u001b[39;00m\n\u001b[32m---> \u001b[39m\u001b[32m41\u001b[39m \u001b[38;5;28;01mfrom\u001b[39;00m\u001b[38;5;250m \u001b[39m\u001b[34;01msklearn\u001b[39;00m\u001b[34;01m.\u001b[39;00m\u001b[34;01mmodel_selection\u001b[39;00m\u001b[38;5;250m \u001b[39m\u001b[38;5;28;01mimport\u001b[39;00m train_test_split\n\u001b[32m     42\u001b[39m \u001b[38;5;28;01mfrom\u001b[39;00m\u001b[38;5;250m \u001b[39m\u001b[34;01msklearn\u001b[39;00m\u001b[34;01m.\u001b[39;00m\u001b[34;01mfeature_extraction\u001b[39;00m\u001b[34;01m.\u001b[39;00m\u001b[34;01mtext\u001b[39;00m\u001b[38;5;250m \u001b[39m\u001b[38;5;28;01mimport\u001b[39;00m TfidfVectorizer\n\u001b[32m     43\u001b[39m \u001b[38;5;28;01mfrom\u001b[39;00m\u001b[38;5;250m \u001b[39m\u001b[34;01msklearn\u001b[39;00m\u001b[34;01m.\u001b[39;00m\u001b[34;01mlinear_model\u001b[39;00m\u001b[38;5;250m \u001b[39m\u001b[38;5;28;01mimport\u001b[39;00m LogisticRegression\n",
      "\u001b[31mModuleNotFoundError\u001b[39m: No module named 'sklearn'"
     ]
    },
    {
     "data": {
      "image/png": "[encoded data removed]",
      "text/plain": [
       "<Figure size 800x400 with 1 Axes>"
      ]
     },
     "metadata": {},
     "output_type": "display_data"
    }
   ],
   "source": [
    "# movie_sentiment_full_pipeline.py\n",
    "import pandas as pd\n",
    "import numpy as np\n",
    "import matplotlib.pyplot as plt\n",
    "import pickle\n",
    "from pathlib import Path\n",
    "\n",
    "# read\n",
    "df = pd.read_csv(\"IMDB Dataset.csv\")   # run where the file is located\n",
    "\n",
    "# === VADER scoring ===\n",
    "import nltk\n",
    "nltk.download('vader_lexicon')   # requires internet on the machine you run this on\n",
    "from nltk.sentiment.vader import SentimentIntensityAnalyzer\n",
    "sia = SentimentIntensityAnalyzer()\n",
    "\n",
    "def score_vader(texts):\n",
    "    out = []\n",
    "    for t in texts.fillna(\"\").astype(str):\n",
    "        sc = sia.polarity_scores(t)\n",
    "        out.append(sc)\n",
    "    return pd.DataFrame(out)\n",
    "\n",
    "vader_df = score_vader(df['review'])\n",
    "df = pd.concat([df.reset_index(drop=True), vader_df], axis=1)\n",
    "df.to_csv(\"IMDB_with_vader_scores.csv\", index=False)\n",
    "print(\"Saved IMDB_with_vader_scores.csv\")\n",
    "\n",
    "# quick VADER label\n",
    "def vader_label(c):\n",
    "    if c >= 0.05: return \"positive\"\n",
    "    if c <= -0.05: return \"negative\"\n",
    "    return \"neutral\"\n",
    "df[\"_vader_label\"] = df[\"compound\"].apply(vader_label)\n",
    "\n",
    "# === visualization ===\n",
    "plt.figure(figsize=(8,4)); plt.hist(df['compound'], bins=50); plt.title(\"VADER compound distribution\"); plt.xlabel(\"compound\"); plt.ylabel(\"count\"); plt.tight_layout(); plt.savefig(\"vader_compound_hist.png\")\n",
    "print(\"Saved vader_compound_hist.png\")\n",
    "\n",
    "# === supervised TFIDF + Logistic (full dataset or sample) ===\n",
    "from sklearn.model_selection import train_test_split\n",
    "from sklearn.feature_extraction.text import TfidfVectorizer\n",
    "from sklearn.linear_model import LogisticRegression\n",
    "from sklearn.metrics import classification_report, accuracy_score, confusion_matrix\n",
    "\n",
    "# option: sample for speed:\n",
    "df_small = df.sample(20000, random_state=42).reset_index(drop=True)\n",
    "\n",
    "X = df_small['review'].fillna(\"\")\n",
    "y = df_small['sentiment']\n",
    "Xtr, Xte, ytr, yte = train_test_split(X, y, test_size=0.2, stratify=y, random_state=42)\n",
    "\n",
    "vect = TfidfVectorizer(max_features=5000, ngram_range=(1,2), stop_words='english')\n",
    "Xtr_tf = vect.fit_transform(Xtr)\n",
    "Xte_tf = vect.transform(Xte)\n",
    "\n",
    "clf = LogisticRegression(max_iter=1000, solver='saga', n_jobs=-1)\n",
    "clf.fit(Xtr_tf, ytr)\n",
    "preds = clf.predict(Xte_tf)\n",
    "print(\"Accuracy:\", accuracy_score(yte, preds))\n",
    "print(classification_report(yte, preds))\n",
    "\n",
    "# save artifacts\n",
    "pickle.dump(vect, open(\"tfidf_vectorizer.pkl\",\"wb\"))\n",
    "pickle.dump(clf, open(\"logreg_model.pkl\",\"wb\"))\n",
    "pd.DataFrame({\"review\": Xte.reset_index(drop=True), \"true\": yte.reset_index(drop=True), \"pred\": preds}).to_csv(\"sample_predictions.csv\", index=False)\n",
    "print(\"Saved tfidf_vectorizer.pkl, logreg_model.pkl, sample_predictions.csv\")\n",
    "\n"
   ]
  },
  {
   "cell_type": "code",
   "execution_count": null,
   "id": "7f02f1ae-a710-4d03-9164-c61ee91efc13",
   "metadata": {},
   "outputs": [],
   "source": [
    "import nltk\n",
    "nltk.download('punkt')          # tokenizer\n",
    "nltk.download('stopwords')      # stopwords\n",
    "nltk.download('vader_lexicon')  # for sentiment (VADER)\n"
   ]
  },
  {
   "cell_type": "code",
   "execution_count": null,
   "id": "1ae1da14-9ab0-4b07-8942-941766d78c9d",
   "metadata": {},
   "outputs": [],
   "source": [
    "from nltk.sentiment.vader import SentimentIntensityAnalyzer\n",
    "sia = SentimentIntensityAnalyzer()\n",
    "print(sia.polarity_scores(\"I love this movie!\"))\n"
   ]
  },
  {
   "cell_type": "code",
   "execution_count": null,
   "id": "b83ac83c-82c6-4d33-a466-8e8882573ea6",
   "metadata": {},
   "outputs": [],
   "source": []
  }
 ],
 "metadata": {
  "kernelspec": {
   "display_name": "Python 3 (ipykernel)",
   "language": "python",
   "name": "python3"
  },
  "language_info": {
   "codemirror_mode": {
    "name": "ipython",
    "version": 3
   },
   "file_extension": ".py",
   "mimetype": "text/x-python",
   "name": "python",
   "nbconvert_exporter": "python",
   "pygments_lexer": "ipython3",
   "version": "3.13.5"
  }
 },
 "nbformat": 4,
 "nbformat_minor": 5
}
